{
  "nbformat": 4,
  "nbformat_minor": 0,
  "metadata": {
    "colab": {
      "name": "Pcerve.ipynb",
      "provenance": [],
      "mount_file_id": "1z1D7c9BY-pv4xzCYYtWdSOd2lwk8c4Qw",
      "authorship_tag": "ABX9TyOsjjq6vEsdIUpzGE8sjSSV",
      "include_colab_link": true
    },
    "kernelspec": {
      "name": "python3",
      "display_name": "Python 3"
    },
    "language_info": {
      "name": "python"
    }
  },
  "cells": [
    {
      "cell_type": "markdown",
      "metadata": {
        "id": "view-in-github",
        "colab_type": "text"
      },
      "source": [
        "<a href=\"https://colab.research.google.com/github/Jiiroo/PCerve/blob/main/Pcerve.ipynb\" target=\"_parent\"><img src=\"https://colab.research.google.com/assets/colab-badge.svg\" alt=\"Open In Colab\"/></a>"
      ]
    },
    {
      "cell_type": "code",
      "metadata": {
        "colab": {
          "base_uri": "https://localhost:8080/"
        },
        "id": "YzWiernYMBJv",
        "outputId": "22a90a06-603e-4661-8067-f3c0744582bd"
      },
      "source": [
        "%cd /content/gdrive/My Drive/Github"
      ],
      "execution_count": 6,
      "outputs": [
        {
          "output_type": "stream",
          "text": [
            "[Errno 2] No such file or directory: '/content/gdrive/My Drive/Github'\n",
            "/content\n"
          ],
          "name": "stdout"
        }
      ]
    },
    {
      "cell_type": "code",
      "metadata": {
        "colab": {
          "base_uri": "https://localhost:8080/"
        },
        "id": "6J9CxgzsMGHP",
        "outputId": "d88a6aa9-cb3d-48db-b625-e729581d98c2"
      },
      "source": [
        "%cd /content/gdrive/My Drive/Github"
      ],
      "execution_count": 7,
      "outputs": [
        {
          "output_type": "stream",
          "text": [
            "[Errno 2] No such file or directory: '/content/gdrive/My Drive/Github'\n",
            "/content\n"
          ],
          "name": "stdout"
        }
      ]
    }
  ]
}